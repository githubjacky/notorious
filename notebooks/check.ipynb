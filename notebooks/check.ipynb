{
 "cells": [
  {
   "cell_type": "code",
   "execution_count": 1,
   "id": "e67412e8-5d6b-4ff0-9bea-fb78265e30e7",
   "metadata": {},
   "outputs": [],
   "source": [
    "from pathlib import Path\n",
    "import os\n",
    "os.chdir('..')"
   ]
  },
  {
   "cell_type": "code",
   "execution_count": 2,
   "id": "85b4564c-fa41-4413-8031-fb6f821b32a3",
   "metadata": {},
   "outputs": [
    {
     "data": {
      "text/plain": [
       "['Richard DeVaul \"Sexual Harassment\"',\n",
       " 'Albert J. Alvarez \"Sexual Harassment\"',\n",
       " 'Barry Lubin \"Sexual Harassment\"',\n",
       " 'Antonin Kratochvil \"Sexual Harassment\"',\n",
       " 'Don Hazen \"Sexual Harassment\"',\n",
       " 'Blake Farenthold \"Sexual Harassment\"',\n",
       " 'Jorge Dominguez \"Sexual Harassment\"',\n",
       " 'Bob Weinstein \"Sexual Harassment\"',\n",
       " 'Ed Murray \"Sexual Harassment\"',\n",
       " 'Benton Strong \"Sexual Harassment\"',\n",
       " 'Jeffrey Klein \"Sexual Harassment\"',\n",
       " 'Lockhart Steele \"Sexual Harassment\"',\n",
       " 'John Kricfalusi \"Sexual Harassment\"',\n",
       " 'Ben Vereen \"Sexual Harassment\"',\n",
       " 'Alex Jones \"Sexual Harassment\"',\n",
       " 'Andy Savage \"Sexual Harassment\"',\n",
       " 'William Jacoby \"Sexual Harassment\"',\n",
       " 'Phillip Deitrich \"Sexual Harassment\"',\n",
       " 'Eric Schneiderman \"Sexual Harassment\"',\n",
       " 'Sam Isaly \"Sexual Harassment\"',\n",
       " 'Jonathan Schwartz \"Sexual Harassment\"',\n",
       " 'Jann Wenner \"Sexual Harassment\"',\n",
       " 'Mark Mellor \"Sexual Harassment\"',\n",
       " 'Mel Watt \"Sexual Harassment\"',\n",
       " 'Andre Passos \"Sexual Harassment\"',\n",
       " 'Dan Johnson \"Sexual Harassment\"',\n",
       " 'Alex Kozinski \"Sexual Harassment\"',\n",
       " 'George Tyndall \"Sexual Harassment\"',\n",
       " 'Robert Moore \"Sexual Harassment\"',\n",
       " 'Sean Hutchison \"Sexual Harassment\"',\n",
       " 'Asia Argento \"Sexual Harassment\"',\n",
       " 'Bill Hybels \"Sexual Harassment\"',\n",
       " 'Bill O\\'Reilly \"Sexual Harassment\"',\n",
       " 'Mike Germano \"Sexual Harassment\"',\n",
       " 'Carlos Uresti \"Sexual Harassment\"',\n",
       " 'Brett Ratner \"Sexual Harassment\"',\n",
       " 'Calvin Smyre \"Sexual Harassment\"',\n",
       " 'John Kenneally \"Sexual Harassment\"',\n",
       " 'William Strampel \"Sexual Harassment\"',\n",
       " 'Knight Landesman \"Sexual Harassment\"',\n",
       " 'Roy Price \"Sexual Harassment\"',\n",
       " 'Andy Henry \"Sexual Harassment\"',\n",
       " 'Corey Lewandowski \"Sexual Harassment\"',\n",
       " 'Adam Venit \"Sexual Harassment\"',\n",
       " 'Albert Schultz \"Sexual Harassment\"',\n",
       " 'Michael Hafford \"Sexual Harassment\"',\n",
       " 'Ameer Vann \"Sexual Harassment\"',\n",
       " 'Roland G. Fryer, Jr. \"Sexual Harassment\"',\n",
       " 'Clay Johnson \"Sexual Harassment\"',\n",
       " 'Robert Reece \"Sexual Harassment\"',\n",
       " 'Chase Finlay \"Sexual Harassment\"',\n",
       " 'Christina Seafort \"Sexual Harassment\"',\n",
       " 'Steven Wilder Striegel \"Sexual Harassment\"',\n",
       " 'Rick Day \"Sexual Harassment\"',\n",
       " 'Nick Sauer \"Sexual Harassment\"',\n",
       " 'Borris Miles \"Sexual Harassment\"',\n",
       " 'Brent Hamilton \"Sexual Harassment\"',\n",
       " 'Vince Ingenito \"Sexual Harassment\"',\n",
       " 'Alec Klein \"Sexual Harassment\"',\n",
       " 'H. Brandt Ayers \"Sexual Harassment\"']"
      ]
     },
     "execution_count": 2,
     "metadata": {},
     "output_type": "execute_result"
    }
   ],
   "source": [
    "a = [\n",
    "    i.split(\"error: \")[1]\n",
    "    for i in Path(\"log/gtab_warn.log\").read_text().split('\\n')\n",
    "    if i != \"\"\n",
    "]\n",
    "a"
   ]
  },
  {
   "cell_type": "code",
   "execution_count": 3,
   "id": "ac7df595-1a12-4619-9fc1-9e98d49e4873",
   "metadata": {},
   "outputs": [
    {
     "data": {
      "text/plain": [
       "['Richard DeVaul \"Sexual Harassment\"',\n",
       " 'Albert J. Alvarez \"Sexual Harassment\"',\n",
       " 'Barry Lubin \"Sexual Harassment\"',\n",
       " 'Antonin Kratochvil \"Sexual Harassment\"',\n",
       " 'Don Hazen \"Sexual Harassment\"',\n",
       " 'Ed Murray \"Sexual Harassment\"',\n",
       " 'Benton Strong \"Sexual Harassment\"',\n",
       " 'Jeffrey Klein \"Sexual Harassment\"',\n",
       " 'Lockhart Steele \"Sexual Harassment\"',\n",
       " 'John Kricfalusi \"Sexual Harassment\"',\n",
       " 'Ben Vereen \"Sexual Harassment\"',\n",
       " 'Andy Savage \"Sexual Harassment\"',\n",
       " 'William Jacoby \"Sexual Harassment\"',\n",
       " 'Phillip Deitrich \"Sexual Harassment\"',\n",
       " 'Eric Schneiderman \"Sexual Harassment\"',\n",
       " 'Sam Isaly \"Sexual Harassment\"',\n",
       " 'Jonathan Schwartz \"Sexual Harassment\"',\n",
       " 'Jann Wenner \"Sexual Harassment\"',\n",
       " 'Mark Mellor \"Sexual Harassment\"',\n",
       " 'Mel Watt \"Sexual Harassment\"',\n",
       " 'Andre Passos \"Sexual Harassment\"',\n",
       " 'Dan Johnson \"Sexual Harassment\"',\n",
       " 'Alex Kozinski \"Sexual Harassment\"',\n",
       " 'George Tyndall \"Sexual Harassment\"',\n",
       " 'Robert Moore \"Sexual Harassment\"',\n",
       " 'Sean Hutchison \"Sexual Harassment\"',\n",
       " 'Bill Hybels \"Sexual Harassment\"',\n",
       " 'Mike Germano \"Sexual Harassment\"',\n",
       " 'Carlos Uresti \"Sexual Harassment\"',\n",
       " 'Calvin Smyre \"Sexual Harassment\"',\n",
       " 'John Kenneally \"Sexual Harassment\"',\n",
       " 'William Strampel \"Sexual Harassment\"',\n",
       " 'Knight Landesman \"Sexual Harassment\"',\n",
       " 'Andy Henry \"Sexual Harassment\"',\n",
       " 'Corey Lewandowski \"Sexual Harassment\"',\n",
       " 'Adam Venit \"Sexual Harassment\"',\n",
       " 'Albert Schultz \"Sexual Harassment\"',\n",
       " 'Michael Hafford \"Sexual Harassment\"',\n",
       " 'Ameer Vann \"Sexual Harassment\"',\n",
       " 'Roland G. Fryer, Jr. \"Sexual Harassment\"',\n",
       " 'Clay Johnson \"Sexual Harassment\"',\n",
       " 'Robert Reece \"Sexual Harassment\"',\n",
       " 'Chase Finlay \"Sexual Harassment\"',\n",
       " 'Christina Seafort \"Sexual Harassment\"',\n",
       " 'Steven Wilder Striegel \"Sexual Harassment\"',\n",
       " 'Rick Day \"Sexual Harassment\"',\n",
       " 'Nick Sauer \"Sexual Harassment\"',\n",
       " 'Borris Miles \"Sexual Harassment\"',\n",
       " 'Brent Hamilton \"Sexual Harassment\"',\n",
       " 'Vince Ingenito \"Sexual Harassment\"',\n",
       " 'Alec Klein \"Sexual Harassment\"',\n",
       " 'H. Brandt Ayers \"Sexual Harassment\"',\n",
       " 'Asia Argento \"Sexual Harassment\"']"
      ]
     },
     "execution_count": 3,
     "metadata": {},
     "output_type": "execute_result"
    }
   ],
   "source": [
    "b = [\n",
    "    i\n",
    "    for i in Path(\"env/invalid_keyword.txt\").read_text().split('\\n')\n",
    "    if i != \"\"\n",
    "]\n",
    "b"
   ]
  },
  {
   "cell_type": "code",
   "execution_count": 4,
   "id": "c8749c74-ea71-4b94-baae-6ca3f93d9c8b",
   "metadata": {},
   "outputs": [
    {
     "name": "stdout",
     "output_type": "stream",
     "text": [
      "['Blake Farenthold \"Sexual Harassment\"', 'Jorge Dominguez \"Sexual Harassment\"', 'Bob Weinstein \"Sexual Harassment\"', 'Alex Jones \"Sexual Harassment\"', 'Bill O\\'Reilly \"Sexual Harassment\"', 'Brett Ratner \"Sexual Harassment\"', 'Roy Price \"Sexual Harassment\"']\n"
     ]
    }
   ],
   "source": [
    "print([i for i in a if i not in b])"
   ]
  }
 ],
 "metadata": {
  "kernelspec": {
   "display_name": "Poetry",
   "language": "python",
   "name": "poetry-kernel"
  },
  "language_info": {
   "codemirror_mode": {
    "name": "ipython",
    "version": 3
   },
   "file_extension": ".py",
   "mimetype": "text/x-python",
   "name": "python",
   "nbconvert_exporter": "python",
   "pygments_lexer": "ipython3",
   "version": "3.11.5"
  }
 },
 "nbformat": 4,
 "nbformat_minor": 5
}
